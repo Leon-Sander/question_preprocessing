{
 "metadata": {
  "language_info": {
   "codemirror_mode": {
    "name": "ipython",
    "version": 3
   },
   "file_extension": ".py",
   "mimetype": "text/x-python",
   "name": "python",
   "nbconvert_exporter": "python",
   "pygments_lexer": "ipython3",
   "version": "3.8.8"
  },
  "orig_nbformat": 2,
  "kernelspec": {
   "name": "python388jvsc74a57bd040211611db766dc04d4e34028715744ed9c5ebf71c9517b1ff2182e4424a3492",
   "display_name": "Python 3.8.8 64-bit"
  },
  "metadata": {
   "interpreter": {
    "hash": "8ac587500089045bda0d8680467a78b2a5f7abf79b6086e96a7d36f8c178cf35"
   }
  }
 },
 "nbformat": 4,
 "nbformat_minor": 2,
 "cells": [
  {
   "cell_type": "code",
   "execution_count": 1,
   "metadata": {},
   "outputs": [],
   "source": [
    "from question_preprocessing import question_preprocessing\n",
    "qp = question_preprocessing()"
   ]
  },
  {
   "cell_type": "code",
   "execution_count": 6,
   "metadata": {},
   "outputs": [
    {
     "output_type": "execute_result",
     "data": {
      "text/plain": [
       "'{\"plural\": false, \"MAG-IDs/MAKG-IDs\": null, \"KG\": false}'"
      ]
     },
     "metadata": {},
     "execution_count": 6
    }
   ],
   "source": [
    "test_str = \"Which dataset is used in [paper written by Weikum in 2020 about QA]\"\n",
    "test_str_plural = \"Which datasets are used in [paper written by Weikum in 2020 about QA]\"\n",
    "qp.question_classification(test_str)"
   ]
  },
  {
   "cell_type": "code",
   "execution_count": 3,
   "metadata": {},
   "outputs": [
    {
     "output_type": "execute_result",
     "data": {
      "text/plain": [
       "False"
      ]
     },
     "metadata": {},
     "execution_count": 3
    }
   ],
   "source": [
    "qp.check_plural(test_str)"
   ]
  },
  {
   "cell_type": "code",
   "execution_count": 7,
   "metadata": {},
   "outputs": [
    {
     "output_type": "execute_result",
     "data": {
      "text/plain": [
       "True"
      ]
     },
     "metadata": {},
     "execution_count": 7
    }
   ],
   "source": [
    "qp.check_plural(test_str_plural)"
   ]
  },
  {
   "cell_type": "code",
   "execution_count": 15,
   "metadata": {},
   "outputs": [
    {
     "output_type": "execute_result",
     "data": {
      "text/plain": [
       "(25, 67)"
      ]
     },
     "metadata": {},
     "execution_count": 15
    }
   ],
   "source": [
    "span = qp.check_brackets(test_str)\n",
    "span"
   ]
  },
  {
   "cell_type": "code",
   "execution_count": 16,
   "metadata": {},
   "outputs": [
    {
     "output_type": "execute_result",
     "data": {
      "text/plain": [
       "('Weikum', 'QA')"
      ]
     },
     "metadata": {},
     "execution_count": 16
    }
   ],
   "source": [
    "# Aktuell wird hier nur das Erste Wort nach einem Match (\"written|authored\" by) ausgegeben\n",
    "# bzw papers about|on|regarding|with respect to für die keywords\n",
    "qp.extract_author_and_keyword(test_str[span[0]+1:span[1]-1])"
   ]
  },
  {
   "cell_type": "code",
   "execution_count": 11,
   "metadata": {},
   "outputs": [
    {
     "output_type": "execute_result",
     "data": {
      "text/plain": [
       "['https://makg.org/entity/107109010',\n",
       " 'https://makg.org/entity/80314906',\n",
       " 'https://makg.org/entity/33871191',\n",
       " 'https://makg.org/entity/334824406',\n",
       " 'https://makg.org/entity/149034224',\n",
       " 'https://makg.org/entity/140989892']"
      ]
     },
     "metadata": {},
     "execution_count": 11
    }
   ],
   "source": [
    "# Die makg Anfrage matcht auf exakte Wörter -> ganze Namen, deswegen muss der vorherige Schritt entweder\n",
    "# den ganzen Namen finden oder die sparql query nicht mehr exakt matchen sondern ein String contains oder ähnliches enthalten\n",
    "qp.query_makg(\"F.E. Arellano\", None)"
   ]
  },
  {
   "cell_type": "code",
   "execution_count": 8,
   "metadata": {},
   "outputs": [
    {
     "output_type": "execute_result",
     "data": {
      "text/plain": [
       "['https://makg.org/entity/107109010']"
      ]
     },
     "metadata": {},
     "execution_count": 8
    }
   ],
   "source": [
    "qp.query_makg(\"F.E. Arellano\", \"gas holdup\")"
   ]
  },
  {
   "cell_type": "code",
   "execution_count": 13,
   "metadata": {},
   "outputs": [
    {
     "output_type": "execute_result",
     "data": {
      "text/plain": [
       "True"
      ]
     },
     "metadata": {},
     "execution_count": 13
    }
   ],
   "source": [
    "qp.template_matching(\"Which papers use test test?\")"
   ]
  },
  {
   "cell_type": "code",
   "execution_count": null,
   "metadata": {},
   "outputs": [],
   "source": []
  }
 ]
}