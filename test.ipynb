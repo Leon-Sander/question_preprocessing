{
 "metadata": {
  "language_info": {
   "codemirror_mode": {
    "name": "ipython",
    "version": 3
   },
   "file_extension": ".py",
   "mimetype": "text/x-python",
   "name": "python",
   "nbconvert_exporter": "python",
   "pygments_lexer": "ipython3",
   "version": "3.8.5"
  },
  "orig_nbformat": 2,
  "kernelspec": {
   "name": "python3",
   "display_name": "Python 3.8.5 64-bit"
  },
  "metadata": {
   "interpreter": {
    "hash": "31f2aee4e71d21fbe5cf8b01ff0e069b9275f58929596ceb00d14d90e3e16cd6"
   }
  },
  "interpreter": {
   "hash": "31f2aee4e71d21fbe5cf8b01ff0e069b9275f58929596ceb00d14d90e3e16cd6"
  }
 },
 "nbformat": 4,
 "nbformat_minor": 2,
 "cells": [
  {
   "cell_type": "code",
   "execution_count": 1,
   "metadata": {},
   "outputs": [],
   "source": [
    "from question_preprocessing import question_preprocessing\n",
    "qp = question_preprocessing()"
   ]
  },
  {
   "cell_type": "code",
   "execution_count": 2,
   "metadata": {},
   "outputs": [
    {
     "output_type": "execute_result",
     "data": {
      "text/plain": [
       "'{\"plural\": false, \"MAG-IDs/MAKG-IDs\": null, \"KG\": false, \"annoations\": true, \"imrad\": true}'"
      ]
     },
     "metadata": {},
     "execution_count": 2
    }
   ],
   "source": [
    "test_str = \"Which dataset is used in [paper written by Weikum in 2020 about QA]\"\n",
    "test_str_plural = \"Which datasets are used in [paper written by Weikum in 2020 about QA]\"\n",
    "qp.question_classification(test_str)"
   ]
  },
  {
   "source": [
    "### Plural Check"
   ],
   "cell_type": "markdown",
   "metadata": {}
  },
  {
   "cell_type": "code",
   "execution_count": 3,
   "metadata": {},
   "outputs": [
    {
     "output_type": "stream",
     "name": "stdout",
     "text": [
      "False\nTrue\n"
     ]
    }
   ],
   "source": [
    "print(qp.check_plural(test_str))\n",
    "print(qp.check_plural(test_str_plural))\n"
   ]
  },
  {
   "source": [
    "### KG or IR check"
   ],
   "cell_type": "markdown",
   "metadata": {}
  },
  {
   "cell_type": "code",
   "execution_count": 4,
   "metadata": {},
   "outputs": [
    {
     "output_type": "stream",
     "name": "stdout",
     "text": [
      "True\nFalse\n"
     ]
    }
   ],
   "source": [
    "test_str_kg = \"Who authored paper test?\"\n",
    "test_str_ir = \"Which dataset is used in [paper written by Weikum in 2020 about QA]\"\n",
    "print(qp.check_kg(test_str_kg))\n",
    "print(qp.check_kg(test_str_ir))"
   ]
  },
  {
   "source": [
    "### Annotation check"
   ],
   "cell_type": "markdown",
   "metadata": {}
  },
  {
   "cell_type": "code",
   "execution_count": 5,
   "metadata": {},
   "outputs": [
    {
     "output_type": "stream",
     "name": "stdout",
     "text": [
      "False\nTrue\n"
     ]
    }
   ],
   "source": [
    "test_str = \"Which papers use test test?\"\n",
    "test_str2 = \"Which dataset is used in [paper written by Weikum in 2020 about QA]\"\n",
    "\n",
    "print(qp.annotation_template(test_str))\n",
    "print(qp.annotation_template(test_str2))"
   ]
  },
  {
   "source": [
    "### IMRAD Check"
   ],
   "cell_type": "markdown",
   "metadata": {}
  },
  {
   "cell_type": "code",
   "execution_count": 6,
   "metadata": {},
   "outputs": [
    {
     "output_type": "stream",
     "name": "stdout",
     "text": [
      "False\nTrue\n"
     ]
    }
   ],
   "source": [
    "test_str = \"Which papers use test test?\"\n",
    "test_str2 = \"Which dataset is used in [paper written by Weikum in 2020 about QA]\"\n",
    "\n",
    "print(qp.check_imrad(test_str))\n",
    "print(qp.check_imrad(test_str2))"
   ]
  },
  {
   "source": [
    "##  Keyword Extraction and makg query"
   ],
   "cell_type": "markdown",
   "metadata": {}
  },
  {
   "cell_type": "code",
   "execution_count": 7,
   "metadata": {},
   "outputs": [
    {
     "output_type": "stream",
     "name": "stdout",
     "text": [
      "Span returned by ckeck_brackets method: (25, 67)\n\nExtraction of extract_author_and_keyword method: ('Weikum', 'QA')\n\n"
     ]
    }
   ],
   "source": [
    "test_str = \"Which dataset is used in [paper written by Weikum in 2020 about QA]\"\n",
    "span = qp.check_brackets(test_str)\n",
    "print(\"Span returned by ckeck_brackets method: \" + str(span) + '\\n')\n",
    "\n",
    "# Aktuell wird hier nur das Erste Wort nach einem Match (\"written|authored\" by) ausgegeben\n",
    "# bzw papers about|on|regarding|with respect to für die keywords\n",
    "extraction = qp.extract_author_and_keyword(test_str[span[0]+1:span[1]-1])\n",
    "print(\"Extraction of extract_author_and_keyword method: \" + str(extraction) + '\\n')\n",
    "\n"
   ]
  },
  {
   "cell_type": "code",
   "execution_count": 8,
   "metadata": {},
   "outputs": [
    {
     "output_type": "stream",
     "name": "stdout",
     "text": [
      "Makg result with name query F.E. Arellano: \n['https://makg.org/entity/107109010', 'https://makg.org/entity/80314906', 'https://makg.org/entity/33871191', 'https://makg.org/entity/334824406', 'https://makg.org/entity/149034224', 'https://makg.org/entity/140989892']\n\n\nMakg result with name query F.E. Arellano and keyword gas:\n['https://makg.org/entity/107109010', 'https://makg.org/entity/107109010']\n"
     ]
    }
   ],
   "source": [
    "# Die makg Anfrage matcht auf exakte Wörter -> ganze Namen, deswegen muss der vorherige Schritt entweder\n",
    "# den ganzen Namen finden oder die sparql query nicht mehr exakt matchen sondern ein String contains oder ähnliches enthalten\n",
    "makg_result = qp.query_makg(\"F.E. Arellano\", None) # name = \"F.E. Arellano\", keyword = None\n",
    "print(\"Makg result with name query F.E. Arellano: \")\n",
    "print(makg_result)\n",
    "print('\\n')\n",
    "\n",
    "makg_result2 = qp.query_makg(\"F.E. Arellano\", \"gas\") # name = \"F.E. Arellano\", keyword = gas\n",
    "print(\"Makg result with name query F.E. Arellano and keyword gas:\")\n",
    "print(makg_result2)"
   ]
  },
  {
   "cell_type": "code",
   "execution_count": null,
   "metadata": {},
   "outputs": [],
   "source": []
  }
 ]
}