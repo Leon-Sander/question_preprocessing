{
 "metadata": {
  "language_info": {
   "codemirror_mode": {
    "name": "ipython",
    "version": 3
   },
   "file_extension": ".py",
   "mimetype": "text/x-python",
   "name": "python",
   "nbconvert_exporter": "python",
   "pygments_lexer": "ipython3",
   "version": "3.8.8"
  },
  "orig_nbformat": 2,
  "kernelspec": {
   "name": "python3",
   "display_name": "Python 3.8.8 64-bit ('rapids-0.19': conda)"
  },
  "metadata": {
   "interpreter": {
    "hash": "8ac587500089045bda0d8680467a78b2a5f7abf79b6086e96a7d36f8c178cf35"
   }
  },
  "interpreter": {
   "hash": "8ac587500089045bda0d8680467a78b2a5f7abf79b6086e96a7d36f8c178cf35"
  }
 },
 "nbformat": 4,
 "nbformat_minor": 2,
 "cells": [
  {
   "source": [
    "#### Question Classification into Types 1-4"
   ],
   "cell_type": "markdown",
   "metadata": {}
  },
  {
   "cell_type": "code",
   "execution_count": 39,
   "metadata": {},
   "outputs": [
    {
     "output_type": "stream",
     "name": "stdout",
     "text": [
      "<re.Match object; span=(0, 45), match='Which data sets are mentioned in the paper X?'>\n"
     ]
    }
   ],
   "source": [
    "import re\n",
    "ir_single = [\"What are the main contributions of paper X?\",\n",
    "\"Which baselines were used in the paper X?\",\n",
    "\"Which dataset is used in the paper ‘On Emerging Entity Detection’?\",\n",
    "\"Does paper X provide a dataset?\",\n",
    "\"What machine learning methods does paper X compare?\", # die ersten 4 auch für IR global bloß im Plural halt\n",
    "\"Which datasets are mentioned in the paper X?\",\n",
    "\"Which datasets are compared to, in the paper ‘unarXive: A Large...’?\"]\n",
    "\n",
    "ir_single_pattern = [\"What (are|is) the (main )?contribution(s)? of paper .*\",\n",
    "                     \"Which .* (were|are|is) used in the paper .*\",\n",
    "                     \"Does paper .* provide a .*\",\n",
    "                     \"(What|Which) machine learning method(s)? does paper .* compare(\\?)?\",\n",
    "                     \"(Which|What) data( )?set(s)? (are|is) mentioned in the paper .*\",\n",
    "                     \"(Which|What) data( )?set(s)? (are|is) compared to .* in the paper .*\"]\n",
    "\n",
    "test = \"What are the main contributions of paper test\"\n",
    "test2 = \"What machine learning method does paper test test compare\"\n",
    "test4 = \"Which data sets are mentioned in the paper X?\"\n",
    "print(re.fullmatch(ir_single_pattern[4],test4))\n",
    "\n",
    "ir_global = [\"How good (BLUE score) is the best state-of-the-art model for machine translation?\",\n",
    "\"How large are the language models in GB published since 2011?\",\n",
    "\"Which use cases exist for cross-lingual scientific impact quantification?\",\n",
    "\"Which ML methods have been used by author Y?\",\n",
    "\"Which data sets have been introduced in papers at conference Z?\",\n",
    "\"Which ML methods have been used for annotating datasets in papers?\",\n",
    "\"What is proposed as future work regarding citation recommendation?\",\n",
    "\"Which metrics are used for evaluating scholarly trend detection approaches?\",\n",
    "\"Which datasets are mentioned in the papers ‘On Emerging Entity Detection’ and/or ‘Semantic Search for Novel Information’?\",\n",
    "\"Which datasets are considered for use in the papers ‘A Large-Scale Analysis of Cross-lingual Citations in English Papers’ and/or ‘Bootstrapping Multilingual Metadata Extraction: A Showcase in Cyrillic’?\",\n",
    "\"Which evaluation data sets are mentioned/used in the context of citation recommendation?\",\n",
    "\"Which methods are proposed for context-aware citation recommendation?\",\n",
    "\"Which datasets are used in the papers ‘On Emerging Entity Detection’ and/or ‘Semantic Search for Novel Information’?\",\n",
    "\"Which datasets are used in the evaluations regarding document embedding (in all papers)?\",\n",
    "\"Which datasets appear in the evaluations...\"\n",
    "]\n",
    "\n",
    "ir_global_pattern = [\"How .* are the .* models (in .* )?published since \\d+\\??\", #mglw zu offen\n",
    "                     \"Which use cases exist for .*\",\n",
    "                     \"Which (ML |.* )?methods have been used by author .*\\??\",\n",
    "                     \"Which (data sets|datasets) have been introduced in (the )?papers .*( at conference .*\\??)?\",\n",
    "                     ]\n",
    "\n",
    "test3 = \"How large are the language models in germany published since 2009?\"\n",
    "#print(re.fullmatch(ir_global_pattern[0],test3))\n",
    "\n",
    "\n",
    "kg_single = [\"Which papers does the paper X cite?\",\n",
    "\"When was the paper X published?\",\n",
    "\"Who authored paper X?\"]\n",
    "\n",
    "kg_single_pattern = [\"Which papers (is|does) the paper .* (cite|citing)\\?\",\n",
    "                     \"When was the paper .* published\\?\",\n",
    "                     \"Who authored paper .*\",\n",
    "                     \"Who (was|were) the author(s)? of the paper .*\"]\n",
    "\n",
    "kg_global = [\"Which papers are associated with BERT?\",\n",
    "\"Which conferences since 2011 have been most influential?\",\n",
    "\"How many papers have been published by KIT-AIFB in ISWC or ESWC since 2012?\",\n",
    "\"In which conferences has [M. Färber at KIT] published?\",\n",
    "]\n",
    "\n",
    "kg_global_pattern = [\"Which papers are associated with .*\",\n",
    "                     \"Which conferences since \\d+ have been most influential?\",\n",
    "                     \"How many papers have been published by .*\",\n",
    "                     \"How many papers have been published in .*\"]"
   ]
  },
  {
   "cell_type": "code",
   "execution_count": 26,
   "metadata": {},
   "outputs": [
    {
     "output_type": "execute_result",
     "data": {
      "text/plain": [
       "'What machine learning method does paper test test compare'"
      ]
     },
     "metadata": {},
     "execution_count": 26
    }
   ],
   "source": [
    "test2[0:57]"
   ]
  },
  {
   "cell_type": "code",
   "execution_count": null,
   "metadata": {},
   "outputs": [],
   "source": []
  }
 ]
}